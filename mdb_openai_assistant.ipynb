{
  "nbformat": 4,
  "nbformat_minor": 0,
  "metadata": {
    "colab": {
      "provenance": [],
      "authorship_tag": "ABX9TyMOomzgGPErQQeKmRlQ6LaX",
      "include_colab_link": true
    },
    "kernelspec": {
      "name": "python3",
      "display_name": "Python 3"
    },
    "language_info": {
      "name": "python"
    }
  },
  "cells": [
    {
      "cell_type": "markdown",
      "metadata": {
        "id": "view-in-github",
        "colab_type": "text"
      },
      "source": [
        "<a href=\"https://colab.research.google.com/github/lukhnov/Azure-Databricks-Cookbook/blob/main/mdb_openai_assistant.ipynb\" target=\"_parent\"><img src=\"https://colab.research.google.com/assets/colab-badge.svg\" alt=\"Open In Colab\"/></a>"
      ]
    },
    {
      "cell_type": "markdown",
      "source": [
        "\n",
        "\n",
        "**First test of OpenAI Assitant flow**\n",
        "\n"
      ],
      "metadata": {
        "id": "fK3QiaUKKT55"
      }
    },
    {
      "cell_type": "code",
      "source": [
        "!pip install OpenAI\n",
        "!pip install datasets"
      ],
      "metadata": {
        "id": "OMb2UfJ6Ktcl"
      },
      "execution_count": null,
      "outputs": []
    },
    {
      "cell_type": "code",
      "source": [
        "from google.colab import drive # mapping to a local drive\n",
        "drive.mount('/content/drive')"
      ],
      "metadata": {
        "colab": {
          "base_uri": "https://localhost:8080/"
        },
        "id": "1QBu5_0ZMFp0",
        "outputId": "aa35d10e-4f85-4604-c8cd-df4526ee6962"
      },
      "execution_count": 14,
      "outputs": [
        {
          "output_type": "stream",
          "name": "stdout",
          "text": [
            "Mounted at /content/drive\n"
          ]
        }
      ]
    },
    {
      "cell_type": "code",
      "execution_count": 8,
      "metadata": {
        "id": "IOCdmZRPJ-yO"
      },
      "outputs": [],
      "source": [
        "from google.colab import userdata\n",
        "secret = userdata.get('openai')"
      ]
    },
    {
      "cell_type": "code",
      "source": [
        "from openai import OpenAI\n",
        "import shelve\n",
        "import time\n",
        "client = OpenAI(api_key=secret)"
      ],
      "metadata": {
        "id": "f3dpN7Y7KjIs"
      },
      "execution_count": 42,
      "outputs": []
    },
    {
      "cell_type": "code",
      "source": [
        "#uploading test dataset\n",
        "from datasets import load_dataset\n",
        "data = load_dataset(\"keivalya/MedQuad-MedicalQnADataset\", split='train')\n",
        "md_dataset = data.to_pandas()"
      ],
      "metadata": {
        "id": "Yf2hsUw8K_uA"
      },
      "execution_count": null,
      "outputs": []
    },
    {
      "cell_type": "code",
      "source": [
        "#saving the dataset to GDrive\n",
        "csv_file_path = '/content/drive/My Drive/Colab Notebooks/md_dataset.csv'\n",
        "md_dataset.to_csv(csv_file_path, index=False)"
      ],
      "metadata": {
        "id": "z3ew2d6sLkQn"
      },
      "execution_count": 45,
      "outputs": []
    },
    {
      "cell_type": "code",
      "source": [
        "# # uploading dataset to openai storage\n",
        "# def upload_file(path):\n",
        "#     # Upload a file with an \"assistants\" purpose\n",
        "#     file = client.files.create(file=open(path, \"rb\"), purpose=\"assistants\")\n",
        "#     return file\n",
        "# file2 = upload_file(\"/content/drive/My Drive/Colab Notebooks/md_dataset.csv\")"
      ],
      "metadata": {
        "id": "XQ3jWdQXNWA-"
      },
      "execution_count": 46,
      "outputs": []
    },
    {
      "cell_type": "code",
      "source": [
        "# uploading dataset to openai storage\n",
        "def upload_file(path):\n",
        "    # Upload a file with an \"assistants\" purpose\n",
        "    file = client.files.create(file=open(path, \"rb\"), purpose=\"assistants\")\n",
        "    return file\n",
        "file = upload_file(\"/content/drive/My Drive/Colab Notebooks/med.pdf\")"
      ],
      "metadata": {
        "id": "kyq_pZLMROSe"
      },
      "execution_count": 51,
      "outputs": []
    },
    {
      "cell_type": "code",
      "source": [
        "#creating assistant and assigning file to it\n",
        "def create_assistant(file):\n",
        "    assistant = client.beta.assistants.create(\n",
        "        name=\"Compassionate Doctor\",\n",
        "        instructions=\"You are a very compassionate doctor. Using this context provided and any reasonable assumptions and inferences, attempt to address the user's questions in the most caring and respectful way\",\n",
        "        tools=[{\"type\": \"retrieval\"}],\n",
        "        model=\"gpt-4-1106-preview\",\n",
        "        file_ids=[file.id],\n",
        "    )\n",
        "    return assistant\n",
        "assistant = create_assistant(file)"
      ],
      "metadata": {
        "id": "tqXs2TgLOZyg"
      },
      "execution_count": 52,
      "outputs": []
    },
    {
      "cell_type": "code",
      "source": [
        "#thread management\n",
        "def check_if_thread_exists(wa_id):\n",
        "    with shelve.open(\"threads_db\") as threads_shelf:\n",
        "        return threads_shelf.get(wa_id, None)\n",
        "\n",
        "\n",
        "def store_thread(wa_id, thread_id):\n",
        "    with shelve.open(\"threads_db\", writeback=True) as threads_shelf:\n",
        "        threads_shelf[wa_id] = thread_id"
      ],
      "metadata": {
        "id": "MhmhO2UiPz4Z"
      },
      "execution_count": 53,
      "outputs": []
    },
    {
      "cell_type": "code",
      "source": [
        "def generate_response(message_body, wa_id, name):\n",
        "    # Check if there is already a thread_id for the wa_id\n",
        "    thread_id = check_if_thread_exists(wa_id)\n",
        "\n",
        "    # If a thread doesn't exist, create one and store it\n",
        "    if thread_id is None:\n",
        "        print(f\"Creating new thread for {name} with wa_id {wa_id}\")\n",
        "        thread = client.beta.threads.create()\n",
        "        store_thread(wa_id, thread.id)\n",
        "        thread_id = thread.id\n",
        "\n",
        "    # Otherwise, retrieve the existing thread\n",
        "    else:\n",
        "        print(f\"Retrieving existing thread for {name} with wa_id {wa_id}\")\n",
        "        thread = client.beta.threads.retrieve(thread_id)\n",
        "\n",
        "    # Add message to thread\n",
        "    message = client.beta.threads.messages.create(\n",
        "        thread_id=thread_id,\n",
        "        role=\"user\",\n",
        "        content=message_body,\n",
        "    )\n",
        "\n",
        "    # Run the assistant and get the new message\n",
        "    new_message = run_assistant(thread)\n",
        "    print(f\"To {name}:\", new_message)\n",
        "    return new_message"
      ],
      "metadata": {
        "id": "vju4xSVlVF5l"
      },
      "execution_count": 54,
      "outputs": []
    },
    {
      "cell_type": "code",
      "source": [
        "#run assistant\n",
        "def run_assistant(thread):\n",
        "    # Retrieve the Assistant\n",
        "    assistant = client.beta.assistants.retrieve(\"asst_zOGkjBPikc4xiSrALsHeRzWn\")\n",
        "\n",
        "    # Run the assistant\n",
        "    run = client.beta.threads.runs.create(\n",
        "        thread_id=thread.id,\n",
        "        assistant_id=assistant.id,\n",
        "    )\n",
        "\n",
        "    # Wait for completion\n",
        "    while run.status != \"completed\":\n",
        "        # Be nice to the API\n",
        "        time.sleep(0.5)\n",
        "        run = client.beta.threads.runs.retrieve(thread_id=thread.id, run_id=run.id)\n",
        "\n",
        "    # Retrieve the Messages\n",
        "    messages = client.beta.threads.messages.list(thread_id=thread.id)\n",
        "    new_message = messages.data[0].content[0].text.value\n",
        "    print(f\"Generated message: {new_message}\")\n",
        "    return new_message"
      ],
      "metadata": {
        "id": "z924Mzs8XDei"
      },
      "execution_count": 55,
      "outputs": []
    },
    {
      "cell_type": "code",
      "source": [
        "new_message = generate_response(\"What is scoping review methodology?\", \"123\", \"John\")"
      ],
      "metadata": {
        "colab": {
          "base_uri": "https://localhost:8080/"
        },
        "id": "efGMqMwCXPMe",
        "outputId": "fae065f8-8621-495f-8a39-fc8b79942cce"
      },
      "execution_count": 58,
      "outputs": [
        {
          "output_type": "stream",
          "name": "stdout",
          "text": [
            "Retrieving existing thread for John with wa_id 123\n",
            "Generated message: A scoping review methodology is a type of research strategy used to map the key concepts underpinning a research area and the main sources and types of evidence available. It is often undertaken before a full systematic review and can be used for several purposes, including:\n",
            "\n",
            "1. **Examining the extent, range, and nature of research activity**.\n",
            "2. **Determining the value of undertaking a full systematic review**.\n",
            "3. **Summarizing and disseminating research findings**.\n",
            "4. **Identifying gaps in the existing literature**.\n",
            "\n",
            "Scoping reviews differ from systematic reviews primarily in their objectives and methodology. While systematic reviews typically focus on a specific question and involve a detailed search, critical appraisal, and synthesis of literature to answer that question, scoping reviews are broader in nature, aiming to provide an overview of the available research without the detailed synthesis or quality assessment of studies.\n",
            "\n",
            "The methodology of a scoping review typically involves several key steps:\n",
            "\n",
            "1. **Identifying the Research Question:** Start with a broad research question to guide the review process.\n",
            "\n",
            "2. **Identifying Relevant Studies:** Develop a strategy to search for relevant literature. This often involves identifying databases and other sources to search, and establishing inclusion and exclusion criteria.\n",
            "\n",
            "3. **Study Selection:** Screen the literature search results against the inclusion and exclusion criteria and select studies for inclusion in the review.\n",
            "\n",
            "4. **Charting the Data:** Extract and chart pertinent data from the included studies using a structured form or framework.\n",
            "\n",
            "5. **Collating, Summarizing, and Reporting the Results:** Analyze and present an overview of the data from the included studies, often including tables and graphical visualizations to summarize key findings.\n",
            "\n",
            "6. **Consultation Exercise (optional):** Engage with stakeholders (e.g., policymakers, practitioners) to inform or validate the findings of the review.\n",
            "\n",
            "Frameworks such as those provided by Arksey and O'Malley or the Joanna Briggs Institute guide the scoping review process with clear steps and considerations to enhance methodological rigor and transparency.\n",
            "\n",
            "Scoping reviews are particularly useful when the subject matter is complex or has not been comprehensively reviewed before. It can help researchers and stakeholders identify how research is conducted in a particular area and clarify key concepts in the field.\n",
            "To John: A scoping review methodology is a type of research strategy used to map the key concepts underpinning a research area and the main sources and types of evidence available. It is often undertaken before a full systematic review and can be used for several purposes, including:\n",
            "\n",
            "1. **Examining the extent, range, and nature of research activity**.\n",
            "2. **Determining the value of undertaking a full systematic review**.\n",
            "3. **Summarizing and disseminating research findings**.\n",
            "4. **Identifying gaps in the existing literature**.\n",
            "\n",
            "Scoping reviews differ from systematic reviews primarily in their objectives and methodology. While systematic reviews typically focus on a specific question and involve a detailed search, critical appraisal, and synthesis of literature to answer that question, scoping reviews are broader in nature, aiming to provide an overview of the available research without the detailed synthesis or quality assessment of studies.\n",
            "\n",
            "The methodology of a scoping review typically involves several key steps:\n",
            "\n",
            "1. **Identifying the Research Question:** Start with a broad research question to guide the review process.\n",
            "\n",
            "2. **Identifying Relevant Studies:** Develop a strategy to search for relevant literature. This often involves identifying databases and other sources to search, and establishing inclusion and exclusion criteria.\n",
            "\n",
            "3. **Study Selection:** Screen the literature search results against the inclusion and exclusion criteria and select studies for inclusion in the review.\n",
            "\n",
            "4. **Charting the Data:** Extract and chart pertinent data from the included studies using a structured form or framework.\n",
            "\n",
            "5. **Collating, Summarizing, and Reporting the Results:** Analyze and present an overview of the data from the included studies, often including tables and graphical visualizations to summarize key findings.\n",
            "\n",
            "6. **Consultation Exercise (optional):** Engage with stakeholders (e.g., policymakers, practitioners) to inform or validate the findings of the review.\n",
            "\n",
            "Frameworks such as those provided by Arksey and O'Malley or the Joanna Briggs Institute guide the scoping review process with clear steps and considerations to enhance methodological rigor and transparency.\n",
            "\n",
            "Scoping reviews are particularly useful when the subject matter is complex or has not been comprehensively reviewed before. It can help researchers and stakeholders identify how research is conducted in a particular area and clarify key concepts in the field.\n"
          ]
        }
      ]
    },
    {
      "cell_type": "code",
      "source": [
        "new_message = generate_response(\"What is caused by asospasm of peripheral arteries\", \"123\", \"John\")\n"
      ],
      "metadata": {
        "colab": {
          "base_uri": "https://localhost:8080/"
        },
        "id": "pFipc-Dr0Q_N",
        "outputId": "76b1bb66-3ba9-45c4-8fe9-2a4e7c525b6e"
      },
      "execution_count": 59,
      "outputs": [
        {
          "output_type": "stream",
          "name": "stdout",
          "text": [
            "Retrieving existing thread for John with wa_id 123\n",
            "Generated message: Vasospasm of peripheral arteries, specifically, is referred to in the context of Raynaud's disease, which is caused by intense vasospasm of peripheral arteries. Raynaud's disease is a rare disorder that affects the arteries, which are blood vessels that carry blood from your heart to different parts of your body .\n",
            "\n",
            "The causes of Raynaud's disease can include:\n",
            "\n",
            "- Diseases and conditions that directly damage the arteries or damage the nerves that control the arteries in the hands and feet.\n",
            "- Repetitive actions that damage the nerves that control the arteries in the hands and feet.\n",
            "- Injuries to the hands and feet.\n",
            "- Exposure to certain chemicals, including beta-adrenoceptor ergotamine and derivatives.\n",
            "- Medications that narrow the arteries or affect blood pressure.\n",
            "- Occupational exposure to vibrating tools and cold.\n",
            "- Cryoglobulinemia.\n",
            "- Conditions that are part of the CREST syndrome.\n",
            "\n",
            "The clinical features associated with Raynaud's disease due to vasospasm may include:\n",
            "\n",
            "- The affected areas may turn pale or white and then blue.\n",
            "- Affected areas may feel numb, cold, or painful.\n",
            "- Once blood flow returns, the areas may turn red, throb, tingle, burn, or still feel numb.\n",
            "\n",
            "Raynaud's disease is just one condition caused by vasospasm of peripheral arteries, and the exact symptoms and causes can differ based on the specific condition and individual circumstances. It's important to consult with a healthcare provider for an accurate diagnosis and appropriate treatment if you're experiencing symptoms of peripheral artery vasospasm .\n",
            "To John: Vasospasm of peripheral arteries, specifically, is referred to in the context of Raynaud's disease, which is caused by intense vasospasm of peripheral arteries. Raynaud's disease is a rare disorder that affects the arteries, which are blood vessels that carry blood from your heart to different parts of your body .\n",
            "\n",
            "The causes of Raynaud's disease can include:\n",
            "\n",
            "- Diseases and conditions that directly damage the arteries or damage the nerves that control the arteries in the hands and feet.\n",
            "- Repetitive actions that damage the nerves that control the arteries in the hands and feet.\n",
            "- Injuries to the hands and feet.\n",
            "- Exposure to certain chemicals, including beta-adrenoceptor ergotamine and derivatives.\n",
            "- Medications that narrow the arteries or affect blood pressure.\n",
            "- Occupational exposure to vibrating tools and cold.\n",
            "- Cryoglobulinemia.\n",
            "- Conditions that are part of the CREST syndrome.\n",
            "\n",
            "The clinical features associated with Raynaud's disease due to vasospasm may include:\n",
            "\n",
            "- The affected areas may turn pale or white and then blue.\n",
            "- Affected areas may feel numb, cold, or painful.\n",
            "- Once blood flow returns, the areas may turn red, throb, tingle, burn, or still feel numb.\n",
            "\n",
            "Raynaud's disease is just one condition caused by vasospasm of peripheral arteries, and the exact symptoms and causes can differ based on the specific condition and individual circumstances. It's important to consult with a healthcare provider for an accurate diagnosis and appropriate treatment if you're experiencing symptoms of peripheral artery vasospasm .\n"
          ]
        }
      ]
    },
    {
      "cell_type": "code",
      "source": [],
      "metadata": {
        "id": "v7Fu4PeW37oj"
      },
      "execution_count": null,
      "outputs": []
    }
  ]
}